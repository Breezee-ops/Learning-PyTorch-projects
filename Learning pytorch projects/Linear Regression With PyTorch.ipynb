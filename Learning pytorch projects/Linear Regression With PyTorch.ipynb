{
 "cells": [
  {
   "cell_type": "markdown",
   "id": "169584de-f965-4d4c-ade1-f4ba81c44805",
   "metadata": {},
   "source": [
    "<b>Simple Linear Regression</b>"
   ]
  },
  {
   "cell_type": "markdown",
   "id": "db7e15e4-a5bc-4113-8ccf-2030d26095d2",
   "metadata": {},
   "source": [
    "Imports"
   ]
  },
  {
   "cell_type": "code",
   "execution_count": 9,
   "id": "6a4638c5-c8ad-4172-9a6d-8b5586bb65c7",
   "metadata": {
    "tags": []
   },
   "outputs": [],
   "source": [
    "import pandas as pd\n",
    "import numpy as np\n",
    "import matplotlib.pyplot as plt\n",
    "import torch\n",
    "import torch.nn as nn\n",
    "from sklearn import datasets"
   ]
  },
  {
   "cell_type": "markdown",
   "id": "8472f8f5-7f95-43bd-b19b-4fa18243f44c",
   "metadata": {},
   "source": [
    "data read"
   ]
  },
  {
   "cell_type": "code",
   "execution_count": 10,
   "id": "109f7ed2-b6ef-4d03-92e1-a1a240bfaee4",
   "metadata": {},
   "outputs": [
    {
     "data": {
      "text/html": [
       "<div>\n",
       "<style scoped>\n",
       "    .dataframe tbody tr th:only-of-type {\n",
       "        vertical-align: middle;\n",
       "    }\n",
       "\n",
       "    .dataframe tbody tr th {\n",
       "        vertical-align: top;\n",
       "    }\n",
       "\n",
       "    .dataframe thead th {\n",
       "        text-align: right;\n",
       "    }\n",
       "</style>\n",
       "<table border=\"1\" class=\"dataframe\">\n",
       "  <thead>\n",
       "    <tr style=\"text-align: right;\">\n",
       "      <th></th>\n",
       "      <th>median_income</th>\n",
       "      <th>median_house_value</th>\n",
       "    </tr>\n",
       "  </thead>\n",
       "  <tbody>\n",
       "    <tr>\n",
       "      <th>0</th>\n",
       "      <td>8.3252</td>\n",
       "      <td>452600.0</td>\n",
       "    </tr>\n",
       "    <tr>\n",
       "      <th>1</th>\n",
       "      <td>8.3014</td>\n",
       "      <td>358500.0</td>\n",
       "    </tr>\n",
       "    <tr>\n",
       "      <th>2</th>\n",
       "      <td>7.2574</td>\n",
       "      <td>352100.0</td>\n",
       "    </tr>\n",
       "    <tr>\n",
       "      <th>3</th>\n",
       "      <td>5.6431</td>\n",
       "      <td>341300.0</td>\n",
       "    </tr>\n",
       "    <tr>\n",
       "      <th>4</th>\n",
       "      <td>3.8462</td>\n",
       "      <td>342200.0</td>\n",
       "    </tr>\n",
       "  </tbody>\n",
       "</table>\n",
       "</div>"
      ],
      "text/plain": [
       "   median_income  median_house_value\n",
       "0         8.3252            452600.0\n",
       "1         8.3014            358500.0\n",
       "2         7.2574            352100.0\n",
       "3         5.6431            341300.0\n",
       "4         3.8462            342200.0"
      ]
     },
     "execution_count": 10,
     "metadata": {},
     "output_type": "execute_result"
    }
   ],
   "source": [
    "df = pd.read_csv(\"C:/Users/prart/Desktop/data/archive/housing.csv\")\n",
    "dfpros = df.drop(['longitude', 'latitude', 'housing_median_age', 'total_rooms', 'total_bedrooms', 'population', 'households', 'ocean_proximity'], axis = 1)\n",
    "dfpros.head()"
   ]
  },
  {
   "cell_type": "code",
   "execution_count": 11,
   "id": "5ca6df42-26f8-4043-8a41-24f2cc840960",
   "metadata": {},
   "outputs": [
    {
     "data": {
      "image/png": "[encoded data removed]",
      "text/plain": [
       "<Figure size 432x288 with 1 Axes>"
      ]
     },
     "metadata": {
      "needs_background": "light"
     },
     "output_type": "display_data"
    }
   ],
   "source": [
    "plt.plot(dfpros.median_income, dfpros.median_house_value, 'o')\n",
    "plt.show()"
   ]
  },
  {
   "cell_type": "markdown",
   "id": "f8917e39-7aab-448a-bf96-ab6aec72c2d8",
   "metadata": {},
   "source": [
    "Data processing and reshaping into useable tensors"
   ]
  },
  {
   "cell_type": "code",
   "execution_count": 13,
   "id": "94894250-df14-484e-b577-ebd6269803e0",
   "metadata": {},
   "outputs": [
    {
     "name": "stdout",
     "output_type": "stream",
     "text": [
      "x =  torch.Size([20640, 1])\n",
      "y =  torch.Size([20640, 1])\n"
     ]
    }
   ],
   "source": [
    "nonx = dfpros.median_income.to_numpy()\n",
    "nony = dfpros.median_house_value.to_numpy()\n",
    "#nonx, nony = datasets.make_regression(n_samples=100, n_features=1, noise=20, random_state=4)\n",
    "\n",
    "x = torch.from_numpy(nonx.astype('float32'))\n",
    "x = torch.reshape(x, (-1, 1))\n",
    "y = torch.from_numpy(nony.astype('float32'))\n",
    "y = y.view(y.shape[0], 1)\n",
    "print('x = ', x.shape)\n",
    "print('y = ', y.shape)"
   ]
  },
  {
   "cell_type": "code",
   "execution_count": 14,
   "id": "bda9832c-5a55-435f-aa99-e030f5316b5c",
   "metadata": {
    "tags": []
   },
   "outputs": [],
   "source": [
    "n_samples, n_features = x.shape"
   ]
  },
  {
   "cell_type": "code",
   "execution_count": 15,
   "id": "e930e1c3-75b5-4283-8d48-a9399de232b8",
   "metadata": {
    "tags": []
   },
   "outputs": [],
   "source": [
    "inputs = n_features\n",
    "outs = 1\n",
    "model = nn.Linear(inputs, outs)"
   ]
  },
  {
   "cell_type": "code",
   "execution_count": 16,
   "id": "d82e91bd-c2b7-464a-afb6-079f996ea57b",
   "metadata": {},
   "outputs": [
    {
     "data": {
      "text/plain": [
       "<function matplotlib.pyplot.show(close=None, block=None)>"
      ]
     },
     "execution_count": 16,
     "metadata": {},
     "output_type": "execute_result"
    },
    {
     "data": {
      "image/png": "[encoded data removed]",
      "text/plain": [
       "<Figure size 432x288 with 1 Axes>"
      ]
     },
     "metadata": {
      "needs_background": "light"
     },
     "output_type": "display_data"
    }
   ],
   "source": [
    "lr = 0.01\n",
    "criterion = nn.MSELoss()\n",
    "optimizer = torch.optim.SGD(model.parameters(), lr)\n",
    "num_epoch = 300\n",
    "for epoch in range(num_epoch):\n",
    "    ypred = model(x)\n",
    "    loss = criterion(ypred, y)\n",
    "    loss.backward()\n",
    "    optimizer.step()\n",
    "    optimizer.zero_grad()\n",
    "    #print(epoch, loss.item())\n",
    "\n",
    "pred = model(x).detach().numpy()\n",
    "plt.plot(nonx, nony, 'ro')\n",
    "plt.plot(nonx, pred, 'b')\n",
    "plt.show"
   ]
  },
  {
   "cell_type": "code",
   "execution_count": null,
   "id": "3755d1ba-f44e-40b2-8394-e023991cab83",
   "metadata": {},
   "outputs": [],
   "source": []
  }
 ],
 "metadata": {
  "kernelspec": {
   "display_name": "Python 3 (ipykernel)",
   "language": "python",
   "name": "python3"
  },
  "language_info": {
   "codemirror_mode": {
    "name": "ipython",
    "version": 3
   },
   "file_extension": ".py",
   "mimetype": "text/x-python",
   "name": "python",
   "nbconvert_exporter": "python",
   "pygments_lexer": "ipython3",
   "version": "3.10.5"
  }
 },
 "nbformat": 4,
 "nbformat_minor": 5
}
